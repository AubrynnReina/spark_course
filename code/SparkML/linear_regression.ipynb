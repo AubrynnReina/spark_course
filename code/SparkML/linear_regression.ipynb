{
 "cells": [
  {
   "cell_type": "code",
   "execution_count": 32,
   "metadata": {},
   "outputs": [],
   "source": [
    "import findspark\n",
    "findspark.init()"
   ]
  },
  {
   "cell_type": "code",
   "execution_count": 33,
   "metadata": {},
   "outputs": [],
   "source": [
    "from pyspark.sql import SparkSession\n",
    "from pyspark.ml.linalg import Vectors\n",
    "from pyspark.ml.regression import LinearRegression"
   ]
  },
  {
   "cell_type": "code",
   "execution_count": 34,
   "metadata": {},
   "outputs": [],
   "source": [
    "spark_session = SparkSession.builder.appName('LinReg').getOrCreate()"
   ]
  },
  {
   "cell_type": "code",
   "execution_count": 35,
   "metadata": {},
   "outputs": [
    {
     "data": {
      "text/plain": [
       "1000"
      ]
     },
     "execution_count": 35,
     "metadata": {},
     "output_type": "execute_result"
    }
   ],
   "source": [
    "data = spark_session.sparkContext.textFile('../../data/regression.txt') \\\n",
    "                                 .map(lambda x: x.split(',')) \\\n",
    "                                 .map(lambda x: (float(x[0]), Vectors.dense(float(x[1]))))\n",
    "\n",
    "cols = ['label', 'features']\n",
    "df = data.toDF(cols)\n",
    "\n",
    "df.count()"
   ]
  },
  {
   "cell_type": "code",
   "execution_count": 36,
   "metadata": {},
   "outputs": [],
   "source": [
    "train_test_split = df.randomSplit([0.8, 0.2])\n",
    "training_df = train_test_split[0]\n",
    "test_df = train_test_split[1]\n",
    "\n",
    "lr_model = LinearRegression(maxIter=50, regParam=0.01, elasticNetParam=0.8)\n",
    "trained_lr_model = lr_model.fit(training_df)"
   ]
  },
  {
   "cell_type": "code",
   "execution_count": 37,
   "metadata": {},
   "outputs": [
    {
     "name": "stdout",
     "output_type": "stream",
     "text": [
      "+-----+--------+-------------------+\n",
      "|label|features|         prediction|\n",
      "+-----+--------+-------------------+\n",
      "|-2.58|  [2.57]|-2.5207517878917396|\n",
      "|-2.54|  [2.39]|-2.3439858623274694|\n",
      "|-2.07|  [2.04]| -2.000274340396943|\n",
      "|-1.94|  [1.98]|-1.9413523652088531|\n",
      "|-1.91|  [1.86]|-1.8235084148326728|\n",
      "|-1.88|  [1.89]|-1.8529694024267178|\n",
      "| -1.6|  [1.63]|-1.5976408432783271|\n",
      "|-1.59|  [1.62]| -1.587820514080312|\n",
      "|-1.39|  [1.32]|-1.2932106381398614|\n",
      "|-1.37|  [1.25]| -1.224468333753756|\n",
      "+-----+--------+-------------------+\n",
      "only showing top 10 rows\n",
      "\n"
     ]
    }
   ],
   "source": [
    "full_predictions = trained_lr_model.transform(test_df).cache()\n",
    "full_predictions.show(10)\n",
    "\n",
    "predictions = full_predictions.select('prediction').rdd.map(lambda x: x[0])\n",
    "labels = full_predictions.select('label').rdd.map(lambda x: x[0])"
   ]
  },
  {
   "cell_type": "code",
   "execution_count": 38,
   "metadata": {},
   "outputs": [
    {
     "data": {
      "text/plain": [
       "[(-2.5207517878917396, -2.58),\n",
       " (-2.3439858623274694, -2.54),\n",
       " (-2.000274340396943, -2.07),\n",
       " (-1.9413523652088531, -1.94),\n",
       " (-1.8235084148326728, -1.91),\n",
       " (-1.8529694024267178, -1.88),\n",
       " (-1.5976408432783271, -1.6),\n",
       " (-1.587820514080312, -1.59),\n",
       " (-1.2932106381398614, -1.39),\n",
       " (-1.224468333753756, -1.37)]"
      ]
     },
     "execution_count": 38,
     "metadata": {},
     "output_type": "execute_result"
    }
   ],
   "source": [
    "prediction_and_label = predictions.zip(labels).collect()\n",
    "prediction_and_label[:10]"
   ]
  },
  {
   "cell_type": "code",
   "execution_count": 39,
   "metadata": {},
   "outputs": [],
   "source": [
    "spark_session.stop()"
   ]
  }
 ],
 "metadata": {
  "kernelspec": {
   "display_name": "spark_course",
   "language": "python",
   "name": "python3"
  },
  "language_info": {
   "codemirror_mode": {
    "name": "ipython",
    "version": 3
   },
   "file_extension": ".py",
   "mimetype": "text/x-python",
   "name": "python",
   "nbconvert_exporter": "python",
   "pygments_lexer": "ipython3",
   "version": "3.9.19"
  }
 },
 "nbformat": 4,
 "nbformat_minor": 2
}
