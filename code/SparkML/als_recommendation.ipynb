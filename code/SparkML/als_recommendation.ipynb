{
 "cells": [
  {
   "cell_type": "code",
   "execution_count": 1,
   "metadata": {},
   "outputs": [],
   "source": [
    "import findspark\n",
    "findspark.init()"
   ]
  },
  {
   "cell_type": "code",
   "execution_count": 2,
   "metadata": {},
   "outputs": [],
   "source": [
    "from pyspark.sql import SparkSession\n",
    "from pyspark.sql.types import StructField, StructType, LongType, IntegerType\n",
    "from pyspark.ml.recommendation import ALS"
   ]
  },
  {
   "cell_type": "code",
   "execution_count": 3,
   "metadata": {},
   "outputs": [],
   "source": [
    "spark_session = SparkSession.builder.appName('Movie Recommendation').getOrCreate()"
   ]
  },
  {
   "cell_type": "code",
   "execution_count": 4,
   "metadata": {},
   "outputs": [
    {
     "name": "stdout",
     "output_type": "stream",
     "text": [
      "+-------+--------+------+---------+\n",
      "|user_id|movie_id|rating|timestamp|\n",
      "+-------+--------+------+---------+\n",
      "|    196|     242|     3|881250949|\n",
      "|    186|     302|     3|891717742|\n",
      "|     22|     377|     1|878887116|\n",
      "|    244|      51|     2|880606923|\n",
      "|    166|     346|     1|886397596|\n",
      "|    298|     474|     4|884182806|\n",
      "|    115|     265|     2|881171488|\n",
      "|    253|     465|     5|891628467|\n",
      "|    305|     451|     3|886324817|\n",
      "|      6|      86|     3|883603013|\n",
      "+-------+--------+------+---------+\n",
      "only showing top 10 rows\n",
      "\n"
     ]
    }
   ],
   "source": [
    "schema = StructType([\n",
    "    StructField('user_id', IntegerType(), True),\n",
    "    StructField('movie_id', IntegerType(), True),\n",
    "    StructField('rating', IntegerType(), True),\n",
    "    StructField('timestamp', LongType(), True)\n",
    "])\n",
    "\n",
    "data = spark_session.read.option('sep', '\\t').schema(schema).csv('../../data/ml-100k/u.data')\n",
    "data.show(10)"
   ]
  },
  {
   "cell_type": "code",
   "execution_count": 6,
   "metadata": {},
   "outputs": [],
   "source": [
    "def load_movie_names():\n",
    "    movie_names = {}\n",
    "\n",
    "    with open('../../data/ml-100k/u.item', 'r', encoding='ISO-8859-1', errors='ignore') as f:\n",
    "        for line in f:\n",
    "            fields = line.split('|')\n",
    "            movie_names[int(fields[0])] = fields[1]\n",
    "\n",
    "    return movie_names\n",
    "\n",
    "movie_names = load_movie_names()"
   ]
  },
  {
   "cell_type": "code",
   "execution_count": 7,
   "metadata": {},
   "outputs": [
    {
     "name": "stdout",
     "output_type": "stream",
     "text": [
      "Training recommendation model...\n"
     ]
    }
   ],
   "source": [
    "print('Training recommendation model...')\n",
    "\n",
    "als_model = ALS().setMaxIter(10) \\\n",
    "                 .setRegParam(0.01) \\\n",
    "                 .setUserCol('user_id') \\\n",
    "                 .setItemCol('movie_id') \\\n",
    "                 .setRatingCol('rating')\n",
    "\n",
    "trained_model = als_model.fit(data)"
   ]
  },
  {
   "cell_type": "code",
   "execution_count": 10,
   "metadata": {},
   "outputs": [],
   "source": [
    "user_id = 123\n",
    "user_schema = StructType([\n",
    "    StructField('user_id', IntegerType(), True)\n",
    "])\n",
    "\n",
    "users = spark_session.createDataFrame([[user_id]], user_schema)\n",
    "num_of_recommendations  = 20\n",
    "recommendations = trained_model.recommendForUserSubset(users, num_of_recommendations).collect()"
   ]
  },
  {
   "cell_type": "code",
   "execution_count": 13,
   "metadata": {},
   "outputs": [
    {
     "name": "stdout",
     "output_type": "stream",
     "text": [
      "Top 20 recommendations for user ID 123\n",
      "City of Industry (1997), rating: 8.021982192993164\n",
      "Crooklyn (1994), rating: 7.767877578735352\n",
      "Beautiful Thing (1996), rating: 6.995762825012207\n",
      "Nénette et Boni (1996), rating: 6.717072486877441\n",
      "Carried Away (1996), rating: 6.711720943450928\n",
      "Misérables, Les (1995), rating: 6.637094497680664\n",
      "Cabin Boy (1994), rating: 6.6296868324279785\n",
      "When the Cats Away (Chacun cherche son chat) (1996), rating: 6.5875725746154785\n",
      "Grace of My Heart (1996), rating: 6.368398666381836\n",
      "Deconstructing Harry (1997), rating: 6.326350212097168\n",
      "My Man Godfrey (1936), rating: 6.290832042694092\n",
      "Caught (1996), rating: 6.269672870635986\n",
      "Ballad of Narayama, The (Narayama Bushiko) (1958), rating: 6.231607913970947\n",
      "Soul Food (1997), rating: 6.206301689147949\n",
      "Before the Rain (Pred dozhdot) (1994), rating: 6.01909065246582\n",
      "Big Blue, The (Grand bleu, Le) (1988), rating: 6.010014057159424\n",
      "Delicatessen (1991), rating: 6.002135276794434\n",
      "Ciao, Professore! (1993), rating: 5.945582866668701\n",
      "Balto (1995), rating: 5.928643703460693\n",
      "Fear of a Black Hat (1993), rating: 5.9276251792907715\n"
     ]
    }
   ],
   "source": [
    "print(f'Top {num_of_recommendations} recommendations for user ID {user_id}')\n",
    "\n",
    "for user_recomendations in recommendations:\n",
    "    recs = user_recomendations[1]\n",
    "\n",
    "    for rec in recs:\n",
    "        movie = rec[0]\n",
    "        rating = rec[1]\n",
    "        movie_name = movie_names[movie]\n",
    "        print(f'{movie_name}, rating: {rating}')\n"
   ]
  },
  {
   "cell_type": "code",
   "execution_count": 5,
   "metadata": {},
   "outputs": [],
   "source": [
    "spark_session.stop()"
   ]
  }
 ],
 "metadata": {
  "kernelspec": {
   "display_name": "spark_course",
   "language": "python",
   "name": "python3"
  },
  "language_info": {
   "codemirror_mode": {
    "name": "ipython",
    "version": 3
   },
   "file_extension": ".py",
   "mimetype": "text/x-python",
   "name": "python",
   "nbconvert_exporter": "python",
   "pygments_lexer": "ipython3",
   "version": "3.9.19"
  }
 },
 "nbformat": 4,
 "nbformat_minor": 2
}
