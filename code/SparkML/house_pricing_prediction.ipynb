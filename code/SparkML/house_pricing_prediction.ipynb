{
 "cells": [
  {
   "cell_type": "code",
   "execution_count": 1,
   "metadata": {},
   "outputs": [],
   "source": [
    "import findspark\n",
    "findspark.init()"
   ]
  },
  {
   "cell_type": "code",
   "execution_count": 2,
   "metadata": {},
   "outputs": [],
   "source": [
    "from pyspark.sql import SparkSession\n",
    "from pyspark.ml.feature import VectorAssembler\n",
    "from pyspark.ml.regression import DecisionTreeRegressor"
   ]
  },
  {
   "cell_type": "code",
   "execution_count": 3,
   "metadata": {},
   "outputs": [],
   "source": [
    "spark_session = SparkSession.builder.appName('DTree_House_Pricing').getOrCreate()"
   ]
  },
  {
   "cell_type": "code",
   "execution_count": 4,
   "metadata": {},
   "outputs": [
    {
     "name": "stdout",
     "output_type": "stream",
     "text": [
      "+---+---------------+--------+-------------+-----------------------+--------+---------+---------------+\n",
      "| No|TransactionDate|HouseAge|DistanceToMRT|NumberConvenienceStores|Latitude|Longitude|PriceOfUnitArea|\n",
      "+---+---------------+--------+-------------+-----------------------+--------+---------+---------------+\n",
      "|  1|       2012.917|    32.0|     84.87882|                     10|24.98298|121.54024|           37.9|\n",
      "|  2|       2012.917|    19.5|     306.5947|                      9|24.98034|121.53951|           42.2|\n",
      "|  3|       2013.583|    13.3|     561.9845|                      5|24.98746|121.54391|           47.3|\n",
      "|  4|         2013.5|    13.3|     561.9845|                      5|24.98746|121.54391|           54.8|\n",
      "|  5|       2012.833|     5.0|     390.5684|                      5|24.97937|121.54245|           43.1|\n",
      "|  6|       2012.667|     7.1|      2175.03|                      3|24.96305|121.51254|           32.1|\n",
      "|  7|       2012.667|    34.5|     623.4731|                      7|24.97933|121.53642|           40.3|\n",
      "|  8|       2013.417|    20.3|     287.6025|                      6|24.98042|121.54228|           46.7|\n",
      "|  9|         2013.5|    31.7|     5512.038|                      1|24.95095|121.48458|           18.8|\n",
      "| 10|       2013.417|    17.9|      1783.18|                      3|24.96731|121.51486|           22.1|\n",
      "+---+---------------+--------+-------------+-----------------------+--------+---------+---------------+\n",
      "only showing top 10 rows\n",
      "\n"
     ]
    }
   ],
   "source": [
    "data = spark_session.read.option('header', 'true') \\\n",
    "                         .option('inferSchema', 'true') \\\n",
    "                         .csv('../../data/realestate.csv')\n",
    "data.show(10)"
   ]
  },
  {
   "cell_type": "code",
   "execution_count": 5,
   "metadata": {},
   "outputs": [],
   "source": [
    "assembler = VectorAssembler().setInputCols(['HouseAge', 'DistanceToMRT', 'NumberConvenienceStores']) \\\n",
    "                             .setOutputCol('features')\n",
    "df = assembler.transform(data).select('PriceOfUnitArea', 'features')\n",
    "train_test_split = df.randomSplit([0.8, 0.2])\n",
    "train_df, test_df = train_test_split[0], train_test_split[1]"
   ]
  },
  {
   "cell_type": "code",
   "execution_count": 6,
   "metadata": {},
   "outputs": [],
   "source": [
    "dtree = DecisionTreeRegressor().setFeaturesCol('features').setLabelCol('PriceOfUnitArea')\n",
    "trained_dtree = dtree.fit(train_df)"
   ]
  },
  {
   "cell_type": "code",
   "execution_count": 9,
   "metadata": {},
   "outputs": [
    {
     "data": {
      "text/plain": [
       "[(18.8, 12.2),\n",
       " (18.4, 12.8),\n",
       " (23.22941176470588, 12.8),\n",
       " (23.22941176470588, 12.9),\n",
       " (18.4, 16.7),\n",
       " (18.8, 17.4),\n",
       " (23.22941176470588, 18.2),\n",
       " (23.22941176470588, 20.9),\n",
       " (23.30000000000001, 21.8),\n",
       " (36.55000000000007, 23.5)]"
      ]
     },
     "execution_count": 9,
     "metadata": {},
     "output_type": "execute_result"
    }
   ],
   "source": [
    "full_predictions = trained_dtree.transform(test_df).cache()\n",
    "\n",
    "predictions = full_predictions.select('prediction').rdd.map(lambda x: x[0])\n",
    "labels = full_predictions.select('PriceOfUnitArea').rdd.map(lambda x: x[0])\n",
    "\n",
    "prediction_and_label = predictions.zip(labels).collect()\n",
    "prediction_and_label[:10]"
   ]
  },
  {
   "cell_type": "code",
   "execution_count": 10,
   "metadata": {},
   "outputs": [],
   "source": [
    "spark_session.stop()"
   ]
  }
 ],
 "metadata": {
  "kernelspec": {
   "display_name": "spark_course",
   "language": "python",
   "name": "python3"
  },
  "language_info": {
   "codemirror_mode": {
    "name": "ipython",
    "version": 3
   },
   "file_extension": ".py",
   "mimetype": "text/x-python",
   "name": "python",
   "nbconvert_exporter": "python",
   "pygments_lexer": "ipython3",
   "version": "3.9.19"
  }
 },
 "nbformat": 4,
 "nbformat_minor": 2
}
