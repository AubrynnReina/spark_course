{
 "cells": [
  {
   "cell_type": "code",
   "execution_count": 12,
   "metadata": {},
   "outputs": [],
   "source": [
    "import findspark\n",
    "findspark.init()\n",
    "\n",
    "from pyspark.sql import SparkSession\n",
    "from pyspark.sql.functions import explode, split, lower, count"
   ]
  },
  {
   "cell_type": "code",
   "execution_count": 2,
   "metadata": {},
   "outputs": [],
   "source": [
    "spark_session = SparkSession.builder.appName('Word Count').getOrCreate()\n",
    "data = spark_session.read.text('../data/Book')"
   ]
  },
  {
   "cell_type": "code",
   "execution_count": 3,
   "metadata": {},
   "outputs": [],
   "source": [
    "words_df = data.select(explode(split(data.value, '\\\\W+')).alias('words'))\n",
    "words_without_empty_string = words_df.filter(words_df.words != '')"
   ]
  },
  {
   "cell_type": "code",
   "execution_count": 10,
   "metadata": {},
   "outputs": [],
   "source": [
    "lowercase_words = words_without_empty_string.select(lower(words_without_empty_string.words).alias('lowercase_words'))"
   ]
  },
  {
   "cell_type": "code",
   "execution_count": 17,
   "metadata": {},
   "outputs": [
    {
     "name": "stdout",
     "output_type": "stream",
     "text": [
      "+---------------+---------+\n",
      "|lowercase_words|frequency|\n",
      "+---------------+---------+\n",
      "|            you|     1878|\n",
      "|             to|     1828|\n",
      "|           your|     1420|\n",
      "|            the|     1292|\n",
      "|              a|     1191|\n",
      "+---------------+---------+\n",
      "only showing top 5 rows\n",
      "\n"
     ]
    }
   ],
   "source": [
    "word_counts = lowercase_words.groupBy('lowercase_words') \\\n",
    "                             .agg(count(lowercase_words.lowercase_words).alias('frequency')) \\\n",
    "                             .sort('frequency', ascending=False) \\\n",
    "                             .show(5)"
   ]
  },
  {
   "cell_type": "code",
   "execution_count": 18,
   "metadata": {},
   "outputs": [],
   "source": [
    "spark_session.stop()"
   ]
  }
 ],
 "metadata": {
  "kernelspec": {
   "display_name": "spark_course",
   "language": "python",
   "name": "python3"
  },
  "language_info": {
   "codemirror_mode": {
    "name": "ipython",
    "version": 3
   },
   "file_extension": ".py",
   "mimetype": "text/x-python",
   "name": "python",
   "nbconvert_exporter": "python",
   "pygments_lexer": "ipython3",
   "version": "3.9.19"
  }
 },
 "nbformat": 4,
 "nbformat_minor": 2
}
