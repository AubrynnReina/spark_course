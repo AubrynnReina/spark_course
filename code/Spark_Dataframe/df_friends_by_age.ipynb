{
 "cells": [
  {
   "cell_type": "code",
   "execution_count": 2,
   "metadata": {},
   "outputs": [],
   "source": [
    "import findspark\n",
    "findspark.init()\n",
    "\n",
    "from pyspark.sql import SparkSession"
   ]
  },
  {
   "cell_type": "code",
   "execution_count": 3,
   "metadata": {},
   "outputs": [],
   "source": [
    "spark_session = SparkSession.builder.appName('Average friend by age').getOrCreate()"
   ]
  },
  {
   "cell_type": "code",
   "execution_count": 4,
   "metadata": {},
   "outputs": [
    {
     "name": "stdout",
     "output_type": "stream",
     "text": [
      "root\n",
      " |-- userID: integer (nullable = true)\n",
      " |-- name: string (nullable = true)\n",
      " |-- age: integer (nullable = true)\n",
      " |-- friends: integer (nullable = true)\n",
      "\n"
     ]
    }
   ],
   "source": [
    "# data = spark_session.read.option('header', 'true') \\\n",
    "#                          .option('inferSchema', 'true') \\\n",
    "#                          .csv('../data/fakefriends-header.csv')\n",
    "\n",
    "# This works too\n",
    "data = spark_session.read.csv(\"../data/fakefriends-header.csv\",\n",
    "                              inferSchema=True,\n",
    "                              header=True)\n",
    "\n",
    "data.printSchema()"
   ]
  },
  {
   "cell_type": "code",
   "execution_count": 5,
   "metadata": {},
   "outputs": [
    {
     "name": "stdout",
     "output_type": "stream",
     "text": [
      "+---+------------------+\n",
      "|age|      avg(friends)|\n",
      "+---+------------------+\n",
      "| 18|           343.375|\n",
      "| 19|213.27272727272728|\n",
      "| 20|             165.0|\n",
      "| 21|           350.875|\n",
      "| 22|206.42857142857142|\n",
      "| 23|             246.3|\n",
      "| 24|             233.8|\n",
      "| 25|197.45454545454547|\n",
      "| 26|242.05882352941177|\n",
      "| 27|           228.125|\n",
      "| 28|             209.1|\n",
      "| 29|215.91666666666666|\n",
      "| 30| 235.8181818181818|\n",
      "| 31|            267.25|\n",
      "| 32| 207.9090909090909|\n",
      "| 33| 325.3333333333333|\n",
      "| 34|             245.5|\n",
      "| 35|           211.625|\n",
      "| 36|             246.6|\n",
      "| 37|249.33333333333334|\n",
      "+---+------------------+\n",
      "only showing top 20 rows\n",
      "\n"
     ]
    }
   ],
   "source": [
    "data.groupBy('age').avg('friends').orderBy('age').show()"
   ]
  },
  {
   "cell_type": "code",
   "execution_count": 18,
   "metadata": {},
   "outputs": [
    {
     "name": "stdout",
     "output_type": "stream",
     "text": [
      "+---+---------------+\n",
      "|age|average_friends|\n",
      "+---+---------------+\n",
      "| 18|         343.38|\n",
      "| 19|         213.27|\n",
      "| 20|          165.0|\n",
      "| 21|         350.88|\n",
      "| 22|         206.43|\n",
      "| 23|          246.3|\n",
      "| 24|          233.8|\n",
      "| 25|         197.45|\n",
      "| 26|         242.06|\n",
      "| 27|         228.13|\n",
      "| 28|          209.1|\n",
      "| 29|         215.92|\n",
      "| 30|         235.82|\n",
      "| 31|         267.25|\n",
      "| 32|         207.91|\n",
      "| 33|         325.33|\n",
      "| 34|          245.5|\n",
      "| 35|         211.63|\n",
      "| 36|          246.6|\n",
      "| 37|         249.33|\n",
      "+---+---------------+\n",
      "only showing top 20 rows\n",
      "\n"
     ]
    }
   ],
   "source": [
    "from pyspark.sql.functions import avg, round\n",
    "\n",
    "# In order to alias your output, you should import the functions from sparkSQL\n",
    "# Then use the agg function of the dataframe to enable aliasing for aggregation functions\n",
    "data.groupBy('age').agg(round(avg('friends'), 2).alias('average_friends')).orderBy('age').show()"
   ]
  },
  {
   "cell_type": "code",
   "execution_count": 6,
   "metadata": {},
   "outputs": [],
   "source": [
    "spark_session.stop()"
   ]
  }
 ],
 "metadata": {
  "kernelspec": {
   "display_name": "spark_course",
   "language": "python",
   "name": "python3"
  },
  "language_info": {
   "codemirror_mode": {
    "name": "ipython",
    "version": 3
   },
   "file_extension": ".py",
   "mimetype": "text/x-python",
   "name": "python",
   "nbconvert_exporter": "python",
   "pygments_lexer": "ipython3",
   "version": "3.9.19"
  }
 },
 "nbformat": 4,
 "nbformat_minor": 2
}
