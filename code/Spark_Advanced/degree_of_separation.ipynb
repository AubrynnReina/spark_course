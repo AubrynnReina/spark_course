{
 "cells": [
  {
   "cell_type": "code",
   "execution_count": 59,
   "metadata": {},
   "outputs": [],
   "source": [
    "import findspark\n",
    "findspark.init()"
   ]
  },
  {
   "cell_type": "code",
   "execution_count": 60,
   "metadata": {},
   "outputs": [],
   "source": [
    "from pyspark import SparkConf, SparkContext"
   ]
  },
  {
   "cell_type": "code",
   "execution_count": 61,
   "metadata": {},
   "outputs": [],
   "source": [
    "spark_conf = SparkConf().setMaster('local').setAppName('Get Distance between 2 superheroes')\n",
    "spark_context = SparkContext(conf=spark_conf)"
   ]
  },
  {
   "cell_type": "code",
   "execution_count": 67,
   "metadata": {},
   "outputs": [
    {
     "data": {
      "text/plain": [
       "Accumulator<id=10, value=0>"
      ]
     },
     "execution_count": 67,
     "metadata": {},
     "output_type": "execute_result"
    }
   ],
   "source": [
    "start_sup_id = 885\n",
    "end_sup_id = 85\n",
    "hit_counter = spark_context.accumulator(0)\n",
    "hit_counter"
   ]
  },
  {
   "cell_type": "code",
   "execution_count": 68,
   "metadata": {},
   "outputs": [],
   "source": [
    "def convert_to_BFS_node(line):\n",
    "\n",
    "    fields = line.split()\n",
    "    sup_id = int(fields[0])\n",
    "\n",
    "    connections = []\n",
    "    for field in fields[1:]:\n",
    "        connections.append(int(field))\n",
    "\n",
    "\n",
    "    color = 'WHITE'\n",
    "    distance = 99999\n",
    "    if sup_id == start_sup_id:\n",
    "        color = 'GRAY'\n",
    "        distance = 0\n",
    "\n",
    "    return (sup_id, (connections, color, distance))\n",
    "\n",
    "\n",
    "def create_data_RDD():\n",
    "    data = spark_context.textFile('../../data/Marvel_Network/Marvel_Graph')\n",
    "    return data.map(convert_to_BFS_node)\n",
    "\n",
    "\n",
    "def make_BFS_map(node):\n",
    "    sup_id = node[0]\n",
    "    connections = node[1][0]\n",
    "    color = node[1][1]\n",
    "    distance = node[1][2]\n",
    "\n",
    "    results = []\n",
    "    if color == 'GRAY':\n",
    "        for connection in connections:\n",
    "            new_sup_id = connection\n",
    "            new_distance = distance + 1\n",
    "            new_color = 'GRAY'\n",
    "\n",
    "            if connection == end_sup_id:\n",
    "                hit_counter.add(1)\n",
    "\n",
    "            new_entry = (new_sup_id, ([], new_color, new_distance))\n",
    "            results.append(new_entry)\n",
    "\n",
    "        color = 'BLACK'\n",
    "\n",
    "    results.append((sup_id, (connections, color, distance)))\n",
    "    return results\n",
    "\n",
    "\n",
    "def BFS_reduce(data1, data2):\n",
    "\n",
    "    # Compare data between 2 results of the same key.\n",
    "    edge1 = data1[0]\n",
    "    edge2 = data2[0]\n",
    "    color1 = data1[1]\n",
    "    color2 = data2[1]\n",
    "    distance1 = data1[2]\n",
    "    distance2 = data2[2]\n",
    "    \n",
    "    distance = 99999\n",
    "    color = color1\n",
    "    edges = []\n",
    "\n",
    "    if len(edge1) > 0:\n",
    "        edges.extend(edge1)\n",
    "    elif len(edge2) > 0:\n",
    "        edges.extend(edge2)\n",
    "\n",
    "    # Preserve smallest distance\n",
    "    if distance > distance1:\n",
    "        distance = distance1\n",
    "    elif distance > distance2:\n",
    "        distance = distance2\n",
    "\n",
    "    # Preserve darkest color\n",
    "    if (color1 == 'WHITE' and (color2 == 'GRAY' or color2 == 'BLACK')):\n",
    "        color = color2\n",
    "\n",
    "    if (color1 == 'GRAY' and color2 == 'BLACK'):\n",
    "        color = color2\n",
    "\n",
    "    if (color2 == 'WHITE' and (color1 == 'GRAY' or color1 == 'BLACK')):\n",
    "        color = color1\n",
    "\n",
    "    if (color2 == 'GRAY' and color1 == 'BLACK'):\n",
    "        color = color1\n",
    "\n",
    "    return (edges, color, distance)\n"
   ]
  },
  {
   "cell_type": "code",
   "execution_count": 69,
   "metadata": {},
   "outputs": [
    {
     "name": "stdout",
     "output_type": "stream",
     "text": [
      "Iteration 1\n",
      "Processing 6627 values.\n",
      "Iteration 2\n",
      "Processing 16823 values.\n",
      "Iteration 3\n",
      "Processing 218092 values.\n",
      "Hit the target character! From 6 different direction(s).\n"
     ]
    }
   ],
   "source": [
    "data = create_data_RDD()\n",
    "\n",
    "for i in range(20):\n",
    "    print(f'Iteration {i + 1}')\n",
    "\n",
    "    mapped_data = data.flatMap(make_BFS_map)\n",
    "\n",
    "    # Note that mapped.count() action here forces the RDD to be evaluated, and\n",
    "    # that's the only reason our accumulator is actually updated.\n",
    "    print(f'Processing {mapped_data.count()} values.')\n",
    "\n",
    "    if (hit_counter.value > 0):\n",
    "        print(f'Hit the target character! From {hit_counter.value} different direction(s).')\n",
    "        break\n",
    "\n",
    "    data = mapped_data.reduceByKey(BFS_reduce)\n"
   ]
  },
  {
   "cell_type": "code",
   "execution_count": 70,
   "metadata": {},
   "outputs": [],
   "source": [
    "spark_context.stop()"
   ]
  }
 ],
 "metadata": {
  "kernelspec": {
   "display_name": "spark_course",
   "language": "python",
   "name": "python3"
  },
  "language_info": {
   "codemirror_mode": {
    "name": "ipython",
    "version": 3
   },
   "file_extension": ".py",
   "mimetype": "text/x-python",
   "name": "python",
   "nbconvert_exporter": "python",
   "pygments_lexer": "ipython3",
   "version": "3.9.19"
  }
 },
 "nbformat": 4,
 "nbformat_minor": 2
}
