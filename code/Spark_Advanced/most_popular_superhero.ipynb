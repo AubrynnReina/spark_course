{
 "cells": [
  {
   "cell_type": "code",
   "execution_count": 26,
   "metadata": {},
   "outputs": [],
   "source": [
    "import findspark\n",
    "findspark.init()\n",
    "\n",
    "from pyspark.sql import SparkSession\n",
    "from pyspark.sql import functions as func"
   ]
  },
  {
   "cell_type": "code",
   "execution_count": 2,
   "metadata": {},
   "outputs": [],
   "source": [
    "spark_session = SparkSession.builder.appName('Get most popular superheroes').getOrCreate()"
   ]
  },
  {
   "cell_type": "code",
   "execution_count": 25,
   "metadata": {},
   "outputs": [
    {
     "name": "stdout",
     "output_type": "stream",
     "text": [
      "+--------------------+\n",
      "|               value|\n",
      "+--------------------+\n",
      "|5988 748 1722 375...|\n",
      "|5989 4080 4264 44...|\n",
      "|5982 217 595 1194...|\n",
      "|5983 1165 3836 43...|\n",
      "|5980 2731 3712 15...|\n",
      "|5981 3569 5353 40...|\n",
      "|5986 2658 3712 26...|\n",
      "|5987 2614 5716 17...|\n",
      "|5984 590 4898 745...|\n",
      "|5985 3233 2254 21...|\n",
      "+--------------------+\n",
      "only showing top 10 rows\n",
      "\n"
     ]
    }
   ],
   "source": [
    "data = spark_session.read.text('../../data/Marvel_Network/Marvel_Graph')\n",
    "data.show(10)"
   ]
  },
  {
   "cell_type": "code",
   "execution_count": 30,
   "metadata": {},
   "outputs": [
    {
     "name": "stdout",
     "output_type": "stream",
     "text": [
      "+----+-----------------+\n",
      "|  id|total_connections|\n",
      "+----+-----------------+\n",
      "| 859|             1937|\n",
      "|5306|             1745|\n",
      "|2664|             1532|\n",
      "|5716|             1429|\n",
      "|6306|             1397|\n",
      "|3805|             1389|\n",
      "|2557|             1374|\n",
      "|4898|             1348|\n",
      "|5736|             1292|\n",
      "| 403|             1283|\n",
      "+----+-----------------+\n",
      "only showing top 10 rows\n",
      "\n"
     ]
    }
   ],
   "source": [
    "connections = data.withColumn('id', func.split(func.col('value'), ' ')[0]) \\\n",
    "                  .withColumn('num_of_connections', func.size(func.split(func.col('value'), ' ')) - 1) \\\n",
    "                  .groupBy('id') \\\n",
    "                  .agg(func.sum('num_of_connections').alias('total_connections')) \\\n",
    "                  .sort('total_connections', ascending=False)\n",
    "\n",
    "connections.show(10)"
   ]
  },
  {
   "cell_type": "code",
   "execution_count": 35,
   "metadata": {},
   "outputs": [],
   "source": [
    "def get_sup_name_dict():\n",
    "    name_dict = {}\n",
    "    with open('../../data/Marvel_Network/Marvel_Names', 'r', encoding='unicode_escape') as f:\n",
    "        for line in f.readlines():\n",
    "            fields = line.split(' ')\n",
    "            name_dict[fields[0]] = ' '.join(fields[1:])\n",
    "    \n",
    "    return name_dict"
   ]
  },
  {
   "cell_type": "code",
   "execution_count": 36,
   "metadata": {},
   "outputs": [
    {
     "data": {
      "text/plain": [
       "[('851', '\"CANDY\"\\n'),\n",
       " ('852', '\"CANE/\"\\n'),\n",
       " ('853', '\"CANNONBALL/JACK PULV\"\\n'),\n",
       " ('854', '\"CANNONBALL II/SAM GU\"\\n'),\n",
       " ('855', '\"CANNONBALL/SAM GUTHR\"\\n'),\n",
       " ('856', '\"CANTOR, VERA\"\\n'),\n",
       " ('857', '\"CAPRICORN/WILLARD WE\"\\n'),\n",
       " ('858', '\"CAPRICORN II/\"\\n'),\n",
       " ('859', '\"CAPTAIN AMERICA\"\\n'),\n",
       " ('860', '\"CAPTAIN AMERICA IV/S\"\\n')]"
      ]
     },
     "execution_count": 36,
     "metadata": {},
     "output_type": "execute_result"
    }
   ],
   "source": [
    "sup_name_dict = spark_session.sparkContext.broadcast(get_sup_name_dict())\n",
    "list(sup_name_dict.value.items())[850:860]"
   ]
  },
  {
   "cell_type": "code",
   "execution_count": 37,
   "metadata": {},
   "outputs": [],
   "source": [
    "def look_up_sup_name(id):\n",
    "    return sup_name_dict.value[id]"
   ]
  },
  {
   "cell_type": "code",
   "execution_count": 38,
   "metadata": {},
   "outputs": [],
   "source": [
    "look_up_sup_name_UDF = func.udf(look_up_sup_name)"
   ]
  },
  {
   "cell_type": "code",
   "execution_count": 39,
   "metadata": {},
   "outputs": [
    {
     "name": "stdout",
     "output_type": "stream",
     "text": [
      "+--------------------+-----------------+\n",
      "|      Superhero_name|total_connections|\n",
      "+--------------------+-----------------+\n",
      "| \"CAPTAIN AMERICA\"\\n|             1937|\n",
      "|\"SPIDER-MAN/PETER...|             1745|\n",
      "|\"IRON MAN/TONY ST...|             1532|\n",
      "|\"THING/BENJAMIN J...|             1429|\n",
      "|\"WOLVERINE/LOGAN \"\\n|             1397|\n",
      "|\"MR. FANTASTIC/RE...|             1389|\n",
      "|\"HUMAN TORCH/JOHN...|             1374|\n",
      "|\"SCARLET WITCH/WA...|             1348|\n",
      "|\"THOR/DR. DONALD ...|             1292|\n",
      "|\"BEAST/HENRY &HAN...|             1283|\n",
      "+--------------------+-----------------+\n",
      "only showing top 10 rows\n",
      "\n"
     ]
    }
   ],
   "source": [
    "named_connections = connections.withColumn('Superhero_name', look_up_sup_name_UDF(func.col('id'))) \\\n",
    "                               .select('Superhero_name', 'total_connections')\n",
    "\n",
    "named_connections.show(10)"
   ]
  },
  {
   "cell_type": "code",
   "execution_count": 42,
   "metadata": {},
   "outputs": [
    {
     "name": "stdout",
     "output_type": "stream",
     "text": [
      "+--------------------+-----------------+\n",
      "|      Superhero_name|total_connections|\n",
      "+--------------------+-----------------+\n",
      "|    \"BERSERKER II\"\\n|                1|\n",
      "|          \"BLARE/\"\\n|                1|\n",
      "|\"MARVEL BOY II/MA...|                1|\n",
      "|\"MARVEL BOY/MARTI...|                1|\n",
      "|  \"GIURESCU, RADU\"\\n|                1|\n",
      "|   \"CLUMSY FOULUP\"\\n|                1|\n",
      "|          \"FENRIS\"\\n|                1|\n",
      "|          \"RANDAK\"\\n|                1|\n",
      "|       \"SHARKSKIN\"\\n|                1|\n",
      "| \"CALLAHAN, DANNY\"\\n|                1|\n",
      "+--------------------+-----------------+\n",
      "only showing top 10 rows\n",
      "\n"
     ]
    }
   ],
   "source": [
    "most_obscure_sups = named_connections.filter(named_connections.total_connections == 1)\n",
    "most_obscure_sups.show(10)"
   ]
  },
  {
   "cell_type": "code",
   "execution_count": 45,
   "metadata": {},
   "outputs": [
    {
     "name": "stdout",
     "output_type": "stream",
     "text": [
      "+--------------------+-----------------+\n",
      "|      Superhero_name|total_connections|\n",
      "+--------------------+-----------------+\n",
      "|    \"BERSERKER II\"\\n|                1|\n",
      "|          \"BLARE/\"\\n|                1|\n",
      "|\"MARVEL BOY II/MA...|                1|\n",
      "|\"MARVEL BOY/MARTI...|                1|\n",
      "|  \"GIURESCU, RADU\"\\n|                1|\n",
      "|   \"CLUMSY FOULUP\"\\n|                1|\n",
      "|          \"FENRIS\"\\n|                1|\n",
      "|          \"RANDAK\"\\n|                1|\n",
      "|       \"SHARKSKIN\"\\n|                1|\n",
      "| \"CALLAHAN, DANNY\"\\n|                1|\n",
      "|     \"DEATHCHARGE\"\\n|                1|\n",
      "|            \"RUNE\"\\n|                1|\n",
      "|     \"SEA LEOPARD\"\\n|                1|\n",
      "|     \"RED WOLF II\"\\n|                1|\n",
      "|          \"ZANTOR\"\\n|                1|\n",
      "|\"JOHNSON, LYNDON ...|                1|\n",
      "|      \"LUNATIK II\"\\n|                1|\n",
      "|            \"KULL\"\\n|                1|\n",
      "|\"GERVASE, LADY AL...|                1|\n",
      "+--------------------+-----------------+\n",
      "\n"
     ]
    }
   ],
   "source": [
    "connections_view = named_connections.createOrReplaceTempView(\"connections\")\n",
    "\n",
    "least_connected_sups = spark_session.sql('''\n",
    "    SELECT * \n",
    "    FROM connections \n",
    "    WHERE total_connections = (\n",
    "        SELECT MIN(total_connections)\n",
    "        FROM connections\n",
    "    )\n",
    "''')\n",
    "least_connected_sups.show()"
   ]
  },
  {
   "cell_type": "code",
   "execution_count": 50,
   "metadata": {},
   "outputs": [
    {
     "name": "stdout",
     "output_type": "stream",
     "text": [
      "+--------------------+-----------------+\n",
      "|      Superhero_name|total_connections|\n",
      "+--------------------+-----------------+\n",
      "|    \"BERSERKER II\"\\n|                1|\n",
      "|          \"BLARE/\"\\n|                1|\n",
      "|\"MARVEL BOY II/MA...|                1|\n",
      "|\"MARVEL BOY/MARTI...|                1|\n",
      "|  \"GIURESCU, RADU\"\\n|                1|\n",
      "|   \"CLUMSY FOULUP\"\\n|                1|\n",
      "|          \"FENRIS\"\\n|                1|\n",
      "|          \"RANDAK\"\\n|                1|\n",
      "|       \"SHARKSKIN\"\\n|                1|\n",
      "| \"CALLAHAN, DANNY\"\\n|                1|\n",
      "+--------------------+-----------------+\n",
      "only showing top 10 rows\n",
      "\n"
     ]
    }
   ],
   "source": [
    "min_connections = named_connections.agg(func.min('total_connections')).first()[0]\n",
    "least_connected_sups = named_connections.filter(named_connections.total_connections == min_connections)\n",
    "\n",
    "least_connected_sups.show(10)"
   ]
  },
  {
   "cell_type": "code",
   "execution_count": 51,
   "metadata": {},
   "outputs": [],
   "source": [
    "spark_session.stop()"
   ]
  }
 ],
 "metadata": {
  "kernelspec": {
   "display_name": "spark_course",
   "language": "python",
   "name": "python3"
  },
  "language_info": {
   "codemirror_mode": {
    "name": "ipython",
    "version": 3
   },
   "file_extension": ".py",
   "mimetype": "text/x-python",
   "name": "python",
   "nbconvert_exporter": "python",
   "pygments_lexer": "ipython3",
   "version": "3.9.19"
  }
 },
 "nbformat": 4,
 "nbformat_minor": 2
}
