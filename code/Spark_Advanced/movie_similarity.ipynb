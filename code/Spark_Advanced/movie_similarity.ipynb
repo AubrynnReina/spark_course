{
 "cells": [
  {
   "cell_type": "code",
   "execution_count": 1,
   "metadata": {},
   "outputs": [],
   "source": [
    "import findspark\n",
    "findspark.init()"
   ]
  },
  {
   "cell_type": "code",
   "execution_count": 5,
   "metadata": {},
   "outputs": [],
   "source": [
    "from pyspark.sql import SparkSession\n",
    "from pyspark.sql import functions as func\n",
    "from pyspark.sql.types import StructField, StructType, IntegerType, StringType, LongType"
   ]
  },
  {
   "cell_type": "code",
   "execution_count": 16,
   "metadata": {},
   "outputs": [],
   "source": [
    "def compute_cosine_similarity(spark, data):\n",
    "\n",
    "    pairScores = data.withColumn('xx', func.pow(func.col('rating1'), 2)) \\\n",
    "                     .withColumn('yy', func.pow(func.col('rating2'), 2)) \\\n",
    "                     .withColumn('xy', func.col('rating1') * func.col('rating2'))\n",
    "    \n",
    "    calculate_similarity = pairScores.groupBy('movie1', 'movie2') \\\n",
    "                                     .agg(\n",
    "                                         func.sum(func.col('xy')).alias('numerator'),\n",
    "                                         func.sqrt(func.sum(func.col('xx')) * func.sum(func.col('yy'))).alias('denominator'),\n",
    "                                         func.count(func.col('xy')).alias('num_of_pairs')\n",
    "                                     )\n",
    "    \n",
    "    result = calculate_similarity.withColumn('score', \n",
    "                                             func.when(\n",
    "                                                 func.col('denominator') != 0,\n",
    "                                                 func.col('numerator') / func.col('denominator')\n",
    "                                             ).otherwise(0)) \\\n",
    "                                             .select('movie1', 'movie2', 'score', 'num_of_pairs')\n",
    "    \n",
    "    return result\n",
    "\n",
    "\n",
    "def get_movie_name(movie_names, movie_id):\n",
    "\n",
    "    result = movie_names.filter(func.col('movie_id') == movie_id) \\\n",
    "                        .select('movie_title').collect()[0]\n",
    "    return result[0]"
   ]
  },
  {
   "cell_type": "code",
   "execution_count": 4,
   "metadata": {},
   "outputs": [],
   "source": [
    "spark_session = SparkSession.builder.appName('Calculate most similar movies').getOrCreate()"
   ]
  },
  {
   "cell_type": "code",
   "execution_count": 11,
   "metadata": {},
   "outputs": [],
   "source": [
    "movieNamesSchema = StructType([\n",
    "                               StructField(\"movie_id\", IntegerType(), True), \\\n",
    "                               StructField(\"movie_title\", StringType(), True) \\\n",
    "                            ])\n",
    "    \n",
    "moviesSchema = StructType([ \\\n",
    "                     StructField(\"user_id\", IntegerType(), True), \\\n",
    "                     StructField(\"movie_id\", IntegerType(), True), \\\n",
    "                     StructField(\"rating\", IntegerType(), True), \\\n",
    "                     StructField(\"timestamp\", LongType(), True)\n",
    "                    ])"
   ]
  },
  {
   "cell_type": "code",
   "execution_count": 13,
   "metadata": {},
   "outputs": [
    {
     "name": "stdout",
     "output_type": "stream",
     "text": [
      "+-------+--------+------+\n",
      "|user_id|movie_id|rating|\n",
      "+-------+--------+------+\n",
      "|    196|     242|     3|\n",
      "|    186|     302|     3|\n",
      "|     22|     377|     1|\n",
      "|    244|      51|     2|\n",
      "|    166|     346|     1|\n",
      "|    298|     474|     4|\n",
      "|    115|     265|     2|\n",
      "|    253|     465|     5|\n",
      "|    305|     451|     3|\n",
      "|      6|      86|     3|\n",
      "+-------+--------+------+\n",
      "only showing top 10 rows\n",
      "\n"
     ]
    }
   ],
   "source": [
    "movieNames = spark_session.read \\\n",
    "                          .option('sep', '|') \\\n",
    "                          .option('charset', 'ISO-8859-1') \\\n",
    "                          .schema(movieNamesSchema) \\\n",
    "                          .csv('../../data/ml-100k/u.item')\n",
    "\n",
    "movies = spark_session.read \\\n",
    "                      .option('sep', '\\t') \\\n",
    "                      .schema(moviesSchema) \\\n",
    "                      .csv('../../data/ml-100k/u.data')\n",
    "\n",
    "ratings = movies.select('user_id', 'movie_id', 'rating')\n",
    "ratings.show(10)"
   ]
  },
  {
   "cell_type": "code",
   "execution_count": 18,
   "metadata": {},
   "outputs": [],
   "source": [
    "movie_pairs = ratings.alias('ratings1') \\\n",
    "                     .join(ratings.alias('ratings2'), \n",
    "                           (func.col('ratings1.user_id') == func.col('ratings2.user_id')) & \\\n",
    "                           (func.col('ratings1.movie_id') < func.col('ratings2.movie_id'))) \\\n",
    "                     .select(func.col('ratings1.movie_id').alias('movie1'),\n",
    "                             func.col('ratings2.movie_id').alias('movie2'),\n",
    "                             func.col('ratings1.rating').alias('rating1'),\n",
    "                             func.col('ratings2.rating').alias('rating2'))\n",
    "                    \n",
    "movie_pair_similarities = compute_cosine_similarity(spark_session, movie_pairs).cache()"
   ]
  },
  {
   "cell_type": "code",
   "execution_count": 20,
   "metadata": {},
   "outputs": [
    {
     "name": "stdout",
     "output_type": "stream",
     "text": [
      "+------+------+------------------+------------+\n",
      "|movie1|movie2|             score|num_of_pairs|\n",
      "+------+------+------------------+------------+\n",
      "|    51|   924|0.9465030160396292|          15|\n",
      "|   451|   529|0.8700048504395461|          30|\n",
      "|    86|   318|0.9562989269248869|          95|\n",
      "|    40|   167|0.9488483124502475|          23|\n",
      "|   274|  1211|0.9799118698777318|           7|\n",
      "|  1042|  1067|               1.0|           2|\n",
      "|   118|   946|0.9180475196475987|          40|\n",
      "|   234|   461|0.9520240320539911|          54|\n",
      "|    88|   523|0.9577170094921833|          74|\n",
      "|   796|  1036|0.9587449708822046|           8|\n",
      "+------+------+------------------+------------+\n",
      "only showing top 10 rows\n",
      "\n"
     ]
    }
   ],
   "source": [
    "movie_pair_similarities.show(10)"
   ]
  },
  {
   "cell_type": "code",
   "execution_count": 28,
   "metadata": {},
   "outputs": [
    {
     "name": "stdout",
     "output_type": "stream",
     "text": [
      "Top 10 similar movies for Lion King, The (1994)\n",
      "Manchurian Candidate, The (1962)\tscore: 0.9791417549036365\tstrength: 51\n",
      "Great Escape, The (1963)\tscore: 0.9731943155031116\tstrength: 63\n",
      "Aladdin (1992)\tscore: 0.9729017053707703\tstrength: 167\n",
      "Winnie the Pooh and the Blustery Day (1968)\tscore: 0.9722198659285328\tstrength: 53\n",
      "Toy Story (1995)\tscore: 0.9711875801700128\tstrength: 173\n",
      "It's a Wonderful Life (1946)\tscore: 0.9707942254118238\tstrength: 128\n",
      "African Queen, The (1951)\tscore: 0.9707738128601991\tstrength: 80\n"
     ]
    }
   ],
   "source": [
    "start_movie_id = 71\n",
    "\n",
    "score_threshold = 0.97\n",
    "co_occurance_threshold = 50\n",
    "\n",
    "filtered_results = movie_pair_similarities.filter(((func.col(\"movie1\") == start_movie_id) | (func.col(\"movie2\") == start_movie_id)) & \\\n",
    "                                                  (func.col(\"score\") > score_threshold) & (func.col(\"num_of_pairs\") > co_occurance_threshold)) \\\n",
    "                                          .sort(func.col('score'), ascending=False) \\\n",
    "                                          .take(10)\n",
    "\n",
    "\n",
    "print (\"Top 10 similar movies for \" + get_movie_name(movieNames, start_movie_id))\n",
    "\n",
    "for result in filtered_results:\n",
    "    # Display the similarity result that isn't the movie we're looking at\n",
    "    similarMovieID = result.movie1\n",
    "    if (similarMovieID == start_movie_id):\n",
    "        similarMovieID = result.movie2\n",
    "    \n",
    "    print(f'{get_movie_name(movieNames, similarMovieID)}\\tscore: {result.score}\\tstrength: {result.num_of_pairs}')"
   ]
  },
  {
   "cell_type": "code",
   "execution_count": null,
   "metadata": {},
   "outputs": [],
   "source": [
    "spark_session.stop()"
   ]
  }
 ],
 "metadata": {
  "kernelspec": {
   "display_name": "spark_course",
   "language": "python",
   "name": "python3"
  },
  "language_info": {
   "codemirror_mode": {
    "name": "ipython",
    "version": 3
   },
   "file_extension": ".py",
   "mimetype": "text/x-python",
   "name": "python",
   "nbconvert_exporter": "python",
   "pygments_lexer": "ipython3",
   "version": "3.9.19"
  }
 },
 "nbformat": 4,
 "nbformat_minor": 2
}
