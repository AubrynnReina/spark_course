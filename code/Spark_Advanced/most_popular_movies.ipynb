{
 "cells": [
  {
   "cell_type": "code",
   "execution_count": 1,
   "metadata": {},
   "outputs": [],
   "source": [
    "import findspark\n",
    "findspark.init()\n",
    "\n",
    "import codecs\n",
    "\n",
    "from pyspark.sql import SparkSession\n",
    "from pyspark.sql import functions as func\n",
    "from pyspark.sql.types import StructField, StructType, IntegerType, LongType"
   ]
  },
  {
   "cell_type": "code",
   "execution_count": 2,
   "metadata": {},
   "outputs": [],
   "source": [
    "spark_session = SparkSession.builder.appName('Get most popular movies').getOrCreate()"
   ]
  },
  {
   "cell_type": "code",
   "execution_count": 3,
   "metadata": {},
   "outputs": [],
   "source": [
    "schema = StructType([\n",
    "    StructField('user_id', IntegerType(), True),\n",
    "    StructField('movie_id', IntegerType(), True),\n",
    "    StructField('rating', IntegerType(), True),\n",
    "    StructField('timestamp', LongType(), True)\n",
    "])"
   ]
  },
  {
   "cell_type": "code",
   "execution_count": 4,
   "metadata": {},
   "outputs": [
    {
     "name": "stdout",
     "output_type": "stream",
     "text": [
      "+-------+--------+------+---------+\n",
      "|user_id|movie_id|rating|timestamp|\n",
      "+-------+--------+------+---------+\n",
      "|    196|     242|     3|881250949|\n",
      "|    186|     302|     3|891717742|\n",
      "|     22|     377|     1|878887116|\n",
      "|    244|      51|     2|880606923|\n",
      "|    166|     346|     1|886397596|\n",
      "+-------+--------+------+---------+\n",
      "only showing top 5 rows\n",
      "\n"
     ]
    }
   ],
   "source": [
    "data = spark_session.read.option('sep', '\\t').schema(schema).csv('../../data/ml-100k/u.data')\n",
    "data.show(5)"
   ]
  },
  {
   "cell_type": "code",
   "execution_count": 5,
   "metadata": {},
   "outputs": [
    {
     "name": "stdout",
     "output_type": "stream",
     "text": [
      "+--------+--------------+\n",
      "|movie_id|num_of_ratings|\n",
      "+--------+--------------+\n",
      "|      50|           583|\n",
      "|     258|           509|\n",
      "|     100|           508|\n",
      "|     181|           507|\n",
      "|     294|           485|\n",
      "+--------+--------------+\n",
      "only showing top 5 rows\n",
      "\n"
     ]
    }
   ],
   "source": [
    "most_popular_movies = data.groupBy('movie_id') \\\n",
    "                          .agg(func.count('movie_id').alias('num_of_ratings')) \\\n",
    "                          .sort('num_of_ratings', ascending=False)\n",
    "most_popular_movies.show(5)"
   ]
  },
  {
   "cell_type": "code",
   "execution_count": 6,
   "metadata": {},
   "outputs": [],
   "source": [
    "def get_movie_name_dict():\n",
    "    movie_names = {}\n",
    "    with codecs.open('../../data/ml-100k/u.item', 'r', encoding='UTF-8', errors='ignore') as f:\n",
    "        for line in f:\n",
    "            fields = line.split('|')\n",
    "            movie_names[int(fields[0])] = fields[1]\n",
    "    \n",
    "    return movie_names"
   ]
  },
  {
   "cell_type": "code",
   "execution_count": 7,
   "metadata": {},
   "outputs": [
    {
     "data": {
      "text/plain": [
       "[(1, 'Toy Story (1995)'),\n",
       " (2, 'GoldenEye (1995)'),\n",
       " (3, 'Four Rooms (1995)'),\n",
       " (4, 'Get Shorty (1995)'),\n",
       " (5, 'Copycat (1995)'),\n",
       " (6, 'Shanghai Triad (Yao a yao yao dao waipo qiao) (1995)'),\n",
       " (7, 'Twelve Monkeys (1995)'),\n",
       " (8, 'Babe (1995)'),\n",
       " (9, 'Dead Man Walking (1995)'),\n",
       " (10, 'Richard III (1995)')]"
      ]
     },
     "execution_count": 7,
     "metadata": {},
     "output_type": "execute_result"
    }
   ],
   "source": [
    "name_dict = spark_session.sparkContext.broadcast(get_movie_name_dict())\n",
    "list(name_dict.value.items())[:10]"
   ]
  },
  {
   "cell_type": "code",
   "execution_count": 8,
   "metadata": {},
   "outputs": [],
   "source": [
    "def look_up_movie_name(id):\n",
    "    return name_dict.value[id]"
   ]
  },
  {
   "cell_type": "code",
   "execution_count": 10,
   "metadata": {},
   "outputs": [
    {
     "name": "stdout",
     "output_type": "stream",
     "text": [
      "+--------------------+--------------+\n",
      "|          movie_name|num_of_ratings|\n",
      "+--------------------+--------------+\n",
      "|    Star Wars (1977)|           583|\n",
      "|      Contact (1997)|           509|\n",
      "|        Fargo (1996)|           508|\n",
      "|Return of the Jed...|           507|\n",
      "|    Liar Liar (1997)|           485|\n",
      "|English Patient, ...|           481|\n",
      "|       Scream (1996)|           478|\n",
      "|    Toy Story (1995)|           452|\n",
      "|Air Force One (1997)|           431|\n",
      "|Independence Day ...|           429|\n",
      "+--------------------+--------------+\n",
      "only showing top 10 rows\n",
      "\n"
     ]
    }
   ],
   "source": [
    "look_up_movie_name_UDF = func.udf(look_up_movie_name)\n",
    "most_popular_movies_named = most_popular_movies.withColumn('movie_name', look_up_movie_name_UDF(func.col('movie_id'))) \\\n",
    "                                               .select('movie_name', 'num_of_ratings')\n",
    "\n",
    "most_popular_movies_named.show(10)"
   ]
  },
  {
   "cell_type": "code",
   "execution_count": 11,
   "metadata": {},
   "outputs": [],
   "source": [
    "spark_session.stop()"
   ]
  }
 ],
 "metadata": {
  "kernelspec": {
   "display_name": "spark_course",
   "language": "python",
   "name": "python3"
  },
  "language_info": {
   "codemirror_mode": {
    "name": "ipython",
    "version": 3
   },
   "file_extension": ".py",
   "mimetype": "text/x-python",
   "name": "python",
   "nbconvert_exporter": "python",
   "pygments_lexer": "ipython3",
   "version": "3.9.19"
  }
 },
 "nbformat": 4,
 "nbformat_minor": 2
}
